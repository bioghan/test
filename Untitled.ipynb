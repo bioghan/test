{
 "cells": [
  {
   "cell_type": "code",
   "execution_count": 38,
   "metadata": {},
   "outputs": [],
   "source": [
    "import requests\n",
    "BASE_URL = \"https://tiki.vn/dien-thoai-may-tinh-bang/c1789?src=c.1789.hamburger_menu_fly_out_banner\"\n",
    "response = requests.get(BASE_URL)\n"
   ]
  },
  {
   "cell_type": "code",
   "execution_count": 39,
   "metadata": {},
   "outputs": [
    {
     "name": "stdout",
     "output_type": "stream",
     "text": [
      "<!DOCTYPE html>\n",
      "<html class=\"no-js\" lang=\"\">\n",
      " <head>\n",
      "  <style>\n",
      "   html { background: #f4f4f4; } .async-hide body { opacity: 0 !important}\n",
      "  </style>\n",
      "  <script>\n",
      "   (function(a,s,y,n,c,h,i,d,e){s.className+=' '+y;h.start=1*new Date;\n",
      "    h.end=i=function(){s.className=s.className.replace(RegExp(' ?'+y),'')};\n",
      "    (a[n]=a[n]||[]).hide=h;setTimeout(function(){i();h.end=null},c);h.timeout=c;\n",
      "    })(window,document.documentElement,'async-hide','dataLayer',1500,\n",
      "    {'GTM-53B3KKW':true});\n",
      "  </script>\n",
      "  <\n"
     ]
    }
   ],
   "source": [
    "from bs4 import BeautifulSoup\n",
    "\n",
    "soup = BeautifulSoup(response.text)\n",
    "print(soup.prettify()[:500])"
   ]
  },
  {
   "cell_type": "code",
   "execution_count": 40,
   "metadata": {},
   "outputs": [],
   "source": [
    "products = soup.find_all('div', class_='product-item')\n",
    "\n"
   ]
  },
  {
   "cell_type": "code",
   "execution_count": 10,
   "metadata": {},
   "outputs": [
    {
     "data": {
      "text/plain": [
       "48"
      ]
     },
     "execution_count": 10,
     "metadata": {},
     "output_type": "execute_result"
    }
   ],
   "source": [
    "len(products)"
   ]
  },
  {
   "cell_type": "code",
   "execution_count": 33,
   "metadata": {},
   "outputs": [
    {
     "data": {
      "text/plain": [
       "['hello', 'world']"
      ]
     },
     "execution_count": 33,
     "metadata": {},
     "output_type": "execute_result"
    }
   ],
   "source": [
    "s = 'hello world   '\n",
    "s.split()"
   ]
  },
  {
   "cell_type": "code",
   "execution_count": 50,
   "metadata": {},
   "outputs": [
    {
     "name": "stdout",
     "output_type": "stream",
     "text": [
      "<div class=\"product-item\" data-brand=\"Samsung\" data-category=\"Điện Thoại - Máy Tính Bảng/Điện thoại Smartphone\" data-id=\"33136984\" data-price=\"6990000\" data-score=\"\" data-seller-product-id=\"35247181\" data-title=\"Điện Thoại Samsung Galaxy M30s (64GB/4GB) - Hàng Chính Hãng\" rel=\"\" tpl=\"\">\n",
      "<a class=\"\" data-id=\"33136984\" data-score=\"\" href=\"https://tiki.vn/dien-thoai-samsung-galaxy-m30s-64gb-4gb-hang-chinh-hang-p33136984.html?src=category-page-1789&amp;2hi=1\" title=\"Điện Thoại Samsung Galaxy M30s (64GB/4GB) - Hàng Chính Hãng\">\n",
      "<div class=\"content\">\n",
      "<span class=\"image\">\n",
      "<img alt=\"\" class=\"product-image img-responsive\" src=\"https://salt.tikicdn.com/cache/200x200/ts/product/14/91/01/c6cafb8778e0dfb0b9b9fde3a656c38c.jpg\"/>\n",
      "<span class=\"product-right-icon\">\n",
      "<i class=\"tikicon icon-tikinow-20\"></i>\n",
      "</span>\n",
      "</span>\n",
      "<div class=\"options-wrap\" id=\"option-wrap-33136984\"></div>\n",
      "<p class=\"icons\">\n",
      "<i class=\"tikicon icon-tikinow\"></i>\n",
      "</p>\n",
      "<p class=\"title\">\n",
      "<i class=\"tikicon icon-tikinow\"></i>\n",
      "                                                    Điện Thoại Samsung Galaxy M30s (64GB/4GB) -...            </p>\n",
      "<p class=\"price-sale\">\n",
      "<span class=\"final-price\">\n",
      "                    6.990.000đ                    <span class=\"sale-tag sale-tag-square\"></span>\n",
      "</span>\n",
      "<span class=\"price-regular\"></span>\n",
      "<span class=\"sale-tag sale-tag-square\"></span>\n",
      "</p>\n",
      "</div>\n",
      "<div class=\"price-tag-wrap\">\n",
      "<p class=\"price-tag\">\n",
      "<span class=\"tag\">\n",
      "<span class=\"v2\">\n",
      "                                    Nhập mã\n",
      "                                                                    </span>\n",
      "<br/>\n",
      "<span class=\"code\">30S1000V5</span>\n",
      "</span>\n",
      "<span class=\"price\">\n",
      "                                Chỉ còn <span>5.990.000đ</span> </span>\n",
      "</p>\n",
      "</div>\n",
      "<div class=\"review-wrap\">\n",
      "<p class=\"rating\">\n",
      "<span class=\"rating-content\">\n",
      "<i class=\"star\"></i>\n",
      "<i class=\"star\"></i>\n",
      "<i class=\"star\"></i>\n",
      "<i class=\"star\"></i>\n",
      "<i class=\"star\"></i>\n",
      "<span style=\"width:93%\">\n",
      "<i class=\"star\"></i>\n",
      "<i class=\"star\"></i>\n",
      "<i class=\"star\"></i>\n",
      "<i class=\"star\"></i>\n",
      "<i class=\"star\"></i>\n",
      "</span>\n",
      "</span>\n",
      "</p>\n",
      "<p class=\"review\">(33 nhận xét)</p>\n",
      "</div>\n",
      "<div class=\"installment-wrapper\">\n",
      "<p class=\"installment\">\n",
      "<i class=\"tikicon icon-tra-gop-64\"></i>\n",
      "<span class=\"installment-price\">Chỉ 582.500 ₫/tháng</span>\n",
      "<span class=\"installment-price-v2\">Trả góp 0%</span>\n",
      "</p>\n",
      "</div>\n",
      "<div class=\"ship-label-wrapper\">\n",
      "</div>\n",
      "</a>\n",
      "</div>\n",
      "47\n"
     ]
    }
   ],
   "source": [
    "test = 0\n",
    "for product in products:\n",
    "    try: \n",
    "        product.find('span', class_= 'final-price').text.strip().split()[1]\n",
    "        test += 1\n",
    "    except:\n",
    "        print(product)\n",
    "print(test)"
   ]
  },
  {
   "cell_type": "code",
   "execution_count": 34,
   "metadata": {},
   "outputs": [
    {
     "data": {
      "text/plain": [
       "'https://salt.tikicdn.com/cache/200x200/ts/product/bc/23/09/76d09086ceaa3d0d9905fe56644e9e9e.jpg'"
      ]
     },
     "execution_count": 34,
     "metadata": {},
     "output_type": "execute_result"
    }
   ],
   "source": [
    "products[0].img['src']"
   ]
  },
  {
   "cell_type": "code",
   "execution_count": 65,
   "metadata": {},
   "outputs": [
    {
     "name": "stdout",
     "output_type": "stream",
     "text": [
      "pass\n"
     ]
    }
   ],
   "source": [
    "titles = []\n",
    "prices = []\n",
    "discounts = []\n",
    "images = []\n",
    "for product in products:\n",
    "    try:\n",
    "        titles.append(product.find('p', class_= 'title').text.strip())\n",
    "        prices.append(product.find('span', class_= 'final-price').text.strip().split()[0])\n",
    "        discounts.append(product.find('span', class_= 'final-price').text.strip().split()[1])\n",
    "        images.append(product.find('img', class_= 'product-image')['src'])\n",
    "    except:\n",
    "        print('pass')\n",
    "\n",
    "        \n",
    "    "
   ]
  },
  {
   "cell_type": "code",
   "execution_count": 67,
   "metadata": {},
   "outputs": [],
   "source": [
    "import json\n",
    "\n",
    "d = list(zip(titles, prices, discounts, images))\n",
    "\n",
    "with open('product-tiki.json', 'w') as file:\n",
    "    json.dump(d, file)"
   ]
  },
  {
   "cell_type": "code",
   "execution_count": 68,
   "metadata": {},
   "outputs": [
    {
     "data": {
      "text/plain": [
       "[['Điện Thoại Xiaomi Mi 8 Lite (4GB / 64GB) -...',\n",
       "  '3.580.000đ',\n",
       "  '-46%',\n",
       "  'https://salt.tikicdn.com/cache/200x200/ts/product/bc/23/09/76d09086ceaa3d0d9905fe56644e9e9e.jpg'],\n",
       " ['Điện Thoại OPPO F11 Pro (6GB/64GB) - Hàng...',\n",
       "  '5.490.000đ',\n",
       "  '-35%',\n",
       "  'https://salt.tikicdn.com/cache/200x200/ts/product/53/4e/42/9d176c816ed49554af03982b30701621.JPG'],\n",
       " ['Điện Thoại iPhone 7 Plus - Hàng Chính Hãng...',\n",
       "  '10.990.000đ',\n",
       "  '-21%',\n",
       "  'https://salt.tikicdn.com/cache/200x200/ts/product/08/f2/8e/0574bf0c633b77b3874d1b5879a94924.jpg'],\n",
       " ['Điện Thoại Samsung Galaxy M10 (16GB/2GB) -...',\n",
       "  '2.399.000đ',\n",
       "  '-31%',\n",
       "  'https://salt.tikicdn.com/cache/200x200/ts/product/6c/1d/06/25f0857791e43f33cfdf5bfb0ec8f3ad.jpg'],\n",
       " ['iPad WiFi 32GB New 2018 - Hàng Nhập Khẩu...',\n",
       "  '6.790.000đ',\n",
       "  '-24%',\n",
       "  'https://salt.tikicdn.com/cache/200x200/ts/product/a5/b1/03/60de1319622d3775ed78fa2199dcb317.jpg'],\n",
       " ['Điện Thoại Samsung Galaxy M30s (64GB/4GB) -...',\n",
       "  '6.990.000đ',\n",
       "  '-31%',\n",
       "  'https://salt.tikicdn.com/cache/200x200/ts/product/c3/41/f4/3780a3c64bc840642b202a95b88f459d.jpg'],\n",
       " ['Điện Thoại Samsung Galaxy A50 (64GB/4GB) -...',\n",
       "  '4.848.000đ',\n",
       "  '-51%',\n",
       "  'https://salt.tikicdn.com/cache/200x200/ts/product/87/2d/ea/7c5dbae214ebdb51bf1efd36fd433f1e.jpg'],\n",
       " ['Điện thoại Vsmart Live (64GB/6GB) - Hàng...',\n",
       "  '3.780.000đ',\n",
       "  '-9%',\n",
       "  'https://salt.tikicdn.com/cache/200x200/media/catalog/product/1/_/1.u5618.d20170823.t165017.549518.jpg'],\n",
       " ['Máy Đọc Sách Kindle Paperwhite 2018 (7th) -...',\n",
       "  '3.099.000đ',\n",
       "  '-8%',\n",
       "  'https://salt.tikicdn.com/cache/200x200/ts/product/a5/1b/4b/925051cd75d938700de042def6dd3428.jpg'],\n",
       " ['Điện Thoại Nokia 105 Dual Sim (2019) - Hàng...',\n",
       "  '333.000đ',\n",
       "  '-50%',\n",
       "  'https://salt.tikicdn.com/cache/200x200/ts/product/80/aa/f1/6ed7f243752212fd162f5cb27eae6a5b.jpg'],\n",
       " ['Điện Thoại Meizu C9 - Hàng Chính Hãng',\n",
       "  '1.150.000đ',\n",
       "  '-49%',\n",
       "  'https://salt.tikicdn.com/cache/200x200/ts/product/a2/da/a1/f5cf18eecf4056dffd6658f983f5d37f.jpg'],\n",
       " ['Điện thoại Nokia 6.1 Plus - Hàng Chính Hãng',\n",
       "  '3.350.000đ',\n",
       "  '-6%',\n",
       "  'https://salt.tikicdn.com/cache/200x200/ts/product/62/8b/cd/0c405bf8703a3b2f631c293bbd06e3ad.jpg'],\n",
       " ['Điện Thoại iPhone 11 Pro Max 64GB - Hàng...',\n",
       "  '31.950.000đ',\n",
       "  '-5%',\n",
       "  'https://salt.tikicdn.com/cache/200x200/ts/product/6b/da/72/4a76b207e416abe75941ede5e78f42a6.jpg'],\n",
       " ['Điện Thoại iPhone 11 Pro Max 256GB - Hàng...',\n",
       "  '35.990.000đ',\n",
       "  '-20%',\n",
       "  'https://salt.tikicdn.com/cache/200x200/ts/product/44/b0/8a/5c398fff0300666cec208ab773ea5d6e.jpg'],\n",
       " ['Điện Thoại Xiaomi Mi 9 Lite (Mi CC9 Global...',\n",
       "  '5.990.000đ',\n",
       "  '-56%',\n",
       "  'https://salt.tikicdn.com/cache/200x200/ts/product/e1/02/63/83c26e50b63607187dce7068e74a6524.jpg'],\n",
       " ['Điện Thoại OPPO F7 (64GB/4GB) - Hàng Chính...',\n",
       "  '3.490.000đ',\n",
       "  '-23%',\n",
       "  'https://salt.tikicdn.com/cache/200x200/ts/product/f9/9a/7b/2edfeec1c53a7bad0d95f94c3a27cc36.jpg'],\n",
       " ['Điện Thoại Nokia 7.2  - Hàng Chính Hãng',\n",
       "  '5.390.000đ',\n",
       "  '-37%',\n",
       "  'https://salt.tikicdn.com/cache/200x200/ts/product/10/83/04/5a57aa6c73a2570b9ecf31a1b08aad0a.jpg'],\n",
       " ['Điện Thoại Samsung Galaxy S10e (128GB/6GB) -...',\n",
       "  '9.999.000đ',\n",
       "  '-8%',\n",
       "  'https://salt.tikicdn.com/cache/200x200/ts/product/f7/29/34/3c020ba1f2e2c0e82b53709e8fc6e3fb.JPG'],\n",
       " ['Điện Thoại Nokia 105 Single Sim (2019) -...',\n",
       "  '330.000đ',\n",
       "  '-25%',\n",
       "  'https://salt.tikicdn.com/cache/200x200/ts/product/82/a1/a8/b9694ef4f35fa0985a3470d5c7320e21.jpg'],\n",
       " ['Điện Thoại Xiaomi Redmi 7A (2GB/16GB) - Hàng...',\n",
       "  '1.796.000đ',\n",
       "  '-20%',\n",
       "  'https://salt.tikicdn.com/cache/200x200/ts/product/1d/43/81/fe2ed92dfd035bf43818557d97f41914.jpg'],\n",
       " ['iPad Mini 5 Wi-Fi 64GB -  Hàng Nhập Khẩu...',\n",
       "  '9.650.000đ',\n",
       "  '-49%',\n",
       "  'https://salt.tikicdn.com/cache/200x200/ts/product/21/30/2a/8081251cd51af14e93b83e6b7c766f3b.jpg'],\n",
       " ['Bộ Điện Thoại Xiaomi Redmi 7 (32GB/3GB) + Ốp...',\n",
       "  '2.435.000đ',\n",
       "  '-44%',\n",
       "  'https://salt.tikicdn.com/cache/200x200/ts/product/c9/5d/6d/2f1b9a496fcabdf2c6b3bcd8be8c32c5.jpg'],\n",
       " ['Điện Thoại Nokia 5.1 Plus - Hàng Chính Hãng',\n",
       "  '2.790.000đ',\n",
       "  '-10%',\n",
       "  'https://salt.tikicdn.com/cache/200x200/ts/product/c5/39/6c/89ffe5b999304756f5eff65297ba700d.jpg'],\n",
       " ['Điện Thoại Samsung Galaxy A10 (32GB/2GB) -...',\n",
       "  '2.770.000đ',\n",
       "  '-45%',\n",
       "  'https://salt.tikicdn.com/cache/200x200/ts/product/ed/b1/f2/f2a48cea8fc6b294a030d8e66ab1789e.jpg'],\n",
       " ['Điện Thoại Nokia 3.1 Plus (32GB/3GB) - Hàng...',\n",
       "  '2.190.000đ',\n",
       "  '-13%',\n",
       "  'https://salt.tikicdn.com/cache/200x200/ts/product/58/5c/98/e3723e6d4341419fc69ef3d837341e71.jpg'],\n",
       " ['Điện Thoại Samsung Galaxy A20 (32GB/3GB) -...',\n",
       "  '3.630.000đ',\n",
       "  '-55%',\n",
       "  'https://salt.tikicdn.com/cache/200x200/ts/product/9d/5e/40/d55da120bdbe9eb23b7ceafc83ca4550.jpg'],\n",
       " ['Điện Thoại Nokia 3.1 (16GB/2GB) - Hàng Chính...',\n",
       "  '1.790.000đ',\n",
       "  '-29%',\n",
       "  'https://salt.tikicdn.com/cache/200x200/ts/product/54/cd/d8/4750933a1d4f5b7788af97cedf6e9a0a.jpg'],\n",
       " ['Xiaomi Redmi 7 64GB Ram 4GB (Rom Quốc Tế) -...',\n",
       "  '2.830.000đ',\n",
       "  '-26%',\n",
       "  'https://salt.tikicdn.com/cache/200x200/ts/product/be/f2/ba/f7cacd4da64139b88acb667612d814ba.jpg'],\n",
       " ['Máy đọc sách Kindle PaperWhite 2018 gen 4...',\n",
       "  '2.950.000đ',\n",
       "  '-35%',\n",
       "  'https://salt.tikicdn.com/cache/200x200/ts/product/3a/f1/48/7c68ecf95460b43128d0b9129b45dbf3.jpg'],\n",
       " ['Máy Tính Bảng Kindle Fire HD8 (8th) 16GB...',\n",
       "  '1.949.000đ',\n",
       "  '-23%',\n",
       "  'https://salt.tikicdn.com/cache/200x200/ts/product/9c/d7/47/76662a80f6824bcf1addb331ed455c6b.jpg'],\n",
       " ['Điện Thoại OPPO A5s - Hàng Chính Hãng',\n",
       "  '3.090.000đ',\n",
       "  '-30%',\n",
       "  'https://salt.tikicdn.com/cache/200x200/ts/product/65/dc/74/2d48e0f8567f63a00fa77b049c163a03.jpg'],\n",
       " ['Điện Thoại Di Động GSM MAXX N3310 – Hàng...',\n",
       "  '189.000đ',\n",
       "  '-16%',\n",
       "  'https://salt.tikicdn.com/cache/200x200/ts/product/4a/f5/9c/f8fd3ab7f73d6fd744c47e8c25809f67.jpg'],\n",
       " ['Điện Thoại Xiaomi Redmi Note 7 (3GB/32GB) -...',\n",
       "  '3.338.000đ',\n",
       "  '-21%',\n",
       "  'https://salt.tikicdn.com/cache/200x200/media/catalog/product/9/0/90684442af5791d45b694998b4f4980a.u2769.d20170703.t140912.794314.jpg'],\n",
       " ['Điện Thoại Nokia 216 - Hàng Chính Hãng',\n",
       "  '650.000đ',\n",
       "  '-27%',\n",
       "  'https://salt.tikicdn.com/cache/200x200/ts/product/7d/b4/bb/e0af64c42a91e6e7f51dfe13ae795694.jpg'],\n",
       " ['Điện Thoại Vivo Y91C - Hàng Chính Hãng',\n",
       "  '2.190.000đ',\n",
       "  '-47%',\n",
       "  'https://salt.tikicdn.com/cache/200x200/ts/product/db/29/75/2818671dd859e42728b23c228e4462b6.jpg'],\n",
       " ['Điện Thoại Wiko View 2 Plus - Hàng chính hãng',\n",
       "  '1.890.000đ',\n",
       "  '-44%',\n",
       "  'https://salt.tikicdn.com/cache/200x200/ts/product/29/af/b6/5a517642b38032935aa1da67c68f6950.jpg'],\n",
       " ['Điện Thoại Nokia 2.2 (16GB/2GB) - Hàng Chính...',\n",
       "  '1.680.000đ',\n",
       "  '-28%',\n",
       "  'https://salt.tikicdn.com/cache/200x200/media/catalog/product/n/o/nokia_105-color-black.u5395.d20170815.t163304.252918_1.jpg'],\n",
       " ['Điện Thoại Nokia 105 Single Sim (2017) -...',\n",
       "  '324.000đ',\n",
       "  '-23%',\n",
       "  'https://salt.tikicdn.com/cache/200x200/ts/product/39/c7/7f/f158a3c28221be8cbeee8739edc433ee.jpg'],\n",
       " ['Điện Thoại Xiaomi Redmi 7 (2GB/16GB) - Hàng...',\n",
       "  '2.299.000đ',\n",
       "  '-60%',\n",
       "  'https://salt.tikicdn.com/cache/200x200/ts/product/75/33/37/9f1f4f8f8f149692909dc8d8923d0aec.jpg'],\n",
       " ['Điện Thoại Vivo V9 - Hàng Chính Hãng',\n",
       "  '3.190.000đ',\n",
       "  '-26%',\n",
       "  'https://salt.tikicdn.com/cache/200x200/ts/product/be/3d/f0/3ef177cecc485b9a9132a87858f0595d.jpg'],\n",
       " ['Điện Thoại Samsung Galaxy Note 10 Plus...',\n",
       "  '19.980.000đ',\n",
       "  '-22%',\n",
       "  'https://salt.tikicdn.com/cache/200x200/ts/product/6e/18/9a/4112773409b8773bc71b0f9ff3c6cbe2.jpg'],\n",
       " ['iPad WiFi 128GB New 2018 - Hàng Nhập Khẩu...',\n",
       "  '8.990.000đ',\n",
       "  '-15%',\n",
       "  'https://salt.tikicdn.com/cache/200x200/ts/product/20/7f/a3/5b839d25aa28398f4c26a8535afe3d4e.jpg'],\n",
       " ['Máy Tính Bảng Samsung Galaxy Tab A8 8\" Wifi...',\n",
       "  '2.790.000đ',\n",
       "  '-20%',\n",
       "  'https://salt.tikicdn.com/cache/200x200/ts/product/4a/f5/9c/440d5d817af0d36980a4fb0c27464454.jpg'],\n",
       " ['Điện Thoại Xiaomi Redmi Note 7 (4GB/64GB) -...',\n",
       "  '3.990.000đ',\n",
       "  '-41%',\n",
       "  'https://salt.tikicdn.com/cache/200x200/ts/product/f7/04/3f/9304613637d7575856d6dad4630b008f.jpg'],\n",
       " ['Xiaomi Redmi Note 7 Pro 128GB Ram 6GB - Hàng...',\n",
       "  '4.150.000đ',\n",
       "  '-21%',\n",
       "  'https://salt.tikicdn.com/cache/200x200/ts/product/85/d0/87/d97e7ec6cb240d3c37f406d7f6a73905.jpg'],\n",
       " ['Điện Thoại Samsung Galaxy A10s (32GB/2GB) -...',\n",
       "  '2.930.000đ',\n",
       "  '-44%',\n",
       "  'https://salt.tikicdn.com/cache/200x200/ts/product/21/30/2a/4002016325ec6f4db0ace5f708f70482.jpg'],\n",
       " ['Bộ Điện Thoại Xiaomi Redmi 7 (64GB/4GB) + Ốp...',\n",
       "  '2.785.000đ',\n",
       "  '-51%',\n",
       "  'https://salt.tikicdn.com/cache/200x200/ts/product/6b/1b/39/8b38e2c425ac392fc94faec57415cc89.jpg']]"
      ]
     },
     "execution_count": 68,
     "metadata": {},
     "output_type": "execute_result"
    }
   ],
   "source": [
    "with open('product-tiki.json', 'r') as file:\n",
    "    reloaded = json.load(file)\n",
    "reloaded"
   ]
  },
  {
   "cell_type": "code",
   "execution_count": 5,
   "metadata": {},
   "outputs": [
    {
     "ename": "NameError",
     "evalue": "name 'articles' is not defined",
     "output_type": "error",
     "traceback": [
      "\u001b[1;31m---------------------------------------------------------------------------\u001b[0m",
      "\u001b[1;31mNameError\u001b[0m                                 Traceback (most recent call last)",
      "\u001b[1;32m<ipython-input-5-07ce5283cb21>\u001b[0m in \u001b[0;36m<module>\u001b[1;34m\u001b[0m\n\u001b[0;32m      1\u001b[0m \u001b[0mtitles\u001b[0m\u001b[1;33m,\u001b[0m \u001b[0mimages\u001b[0m\u001b[1;33m,\u001b[0m \u001b[0mdescriptions\u001b[0m \u001b[1;33m=\u001b[0m \u001b[1;33m[\u001b[0m\u001b[1;33m]\u001b[0m\u001b[1;33m,\u001b[0m \u001b[1;33m[\u001b[0m\u001b[1;33m]\u001b[0m\u001b[1;33m,\u001b[0m \u001b[1;33m[\u001b[0m\u001b[1;33m]\u001b[0m\u001b[1;33m\u001b[0m\u001b[1;33m\u001b[0m\u001b[0m\n\u001b[1;32m----> 2\u001b[1;33m \u001b[1;32mfor\u001b[0m \u001b[0mi\u001b[0m \u001b[1;32min\u001b[0m \u001b[0mrange\u001b[0m\u001b[1;33m(\u001b[0m\u001b[0mlen\u001b[0m\u001b[1;33m(\u001b[0m\u001b[0marticles\u001b[0m\u001b[1;33m)\u001b[0m\u001b[1;33m)\u001b[0m\u001b[1;33m:\u001b[0m\u001b[1;33m\u001b[0m\u001b[1;33m\u001b[0m\u001b[0m\n\u001b[0m\u001b[0;32m      3\u001b[0m     \u001b[1;32mtry\u001b[0m\u001b[1;33m:\u001b[0m\u001b[1;33m\u001b[0m\u001b[1;33m\u001b[0m\u001b[0m\n\u001b[0;32m      4\u001b[0m         \u001b[0mimages\u001b[0m\u001b[1;33m.\u001b[0m\u001b[0mappend\u001b[0m\u001b[1;33m(\u001b[0m\u001b[0marticles\u001b[0m\u001b[1;33m[\u001b[0m\u001b[0mi\u001b[0m\u001b[1;33m]\u001b[0m\u001b[1;33m.\u001b[0m\u001b[0mimg\u001b[0m\u001b[1;33m[\u001b[0m\u001b[1;34m'src'\u001b[0m\u001b[1;33m]\u001b[0m\u001b[1;33m)\u001b[0m\u001b[1;33m\u001b[0m\u001b[1;33m\u001b[0m\u001b[0m\n\u001b[0;32m      5\u001b[0m         \u001b[0mtitles\u001b[0m\u001b[1;33m.\u001b[0m\u001b[0mappend\u001b[0m\u001b[1;33m(\u001b[0m\u001b[0marticles\u001b[0m\u001b[1;33m[\u001b[0m\u001b[0mi\u001b[0m\u001b[1;33m]\u001b[0m\u001b[1;33m.\u001b[0m\u001b[0ma\u001b[0m\u001b[1;33m.\u001b[0m\u001b[0mstring\u001b[0m\u001b[1;33m.\u001b[0m\u001b[0mstrip\u001b[0m\u001b[1;33m(\u001b[0m\u001b[1;33m)\u001b[0m\u001b[1;33m)\u001b[0m\u001b[1;33m\u001b[0m\u001b[1;33m\u001b[0m\u001b[0m\n",
      "\u001b[1;31mNameError\u001b[0m: name 'articles' is not defined"
     ]
    }
   ],
   "source": [
    "titles, images, prices,  = [], [], []\n",
    "for i in range(len(articles)):\n",
    "    try:\n",
    "        images.append(products[i].img['src'])\n",
    "        titles.append(products[i].a.string.strip())\n",
    "        prices.append(products[i].p.text.strip())\n",
    "    except:\n",
    "        print('pass')"
   ]
  },
  {
   "cell_type": "code",
   "execution_count": null,
   "metadata": {},
   "outputs": [],
   "source": []
  }
 ],
 "metadata": {
  "kernelspec": {
   "display_name": "Python 3",
   "language": "python",
   "name": "python3"
  },
  "language_info": {
   "codemirror_mode": {
    "name": "ipython",
    "version": 3
   },
   "file_extension": ".py",
   "mimetype": "text/x-python",
   "name": "python",
   "nbconvert_exporter": "python",
   "pygments_lexer": "ipython3",
   "version": "3.7.3"
  }
 },
 "nbformat": 4,
 "nbformat_minor": 2
}
